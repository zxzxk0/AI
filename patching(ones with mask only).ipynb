{
 "cells": [
  {
   "cell_type": "code",
   "execution_count": 27,
   "metadata": {},
   "outputs": [
    {
     "name": "stdout",
     "output_type": "stream",
     "text": [
      "C:\\Users\\JLK01\\Desktop\\skinfile\\PL_Sample_1.jpg C:\\Users\\JLK01\\Desktop\\skinfile\\PL_Sample_1_labels.png\n",
      "C:\\Users\\JLK01\\Desktop\\skinfile\\PL_Sample_2.jpg C:\\Users\\JLK01\\Desktop\\skinfile\\PL_Sample_2_labels.png\n",
      "C:\\Users\\JLK01\\Desktop\\skinfile\\PL_Sample_3.jpg C:\\Users\\JLK01\\Desktop\\skinfile\\PL_Sample_3_labels.png\n",
      "C:\\Users\\JLK01\\Desktop\\skinfile\\PL_Sample_4.jpg C:\\Users\\JLK01\\Desktop\\skinfile\\PL_Sample_4_labels.png\n",
      "C:\\Users\\JLK01\\Desktop\\skinfile\\PL_Sample_5.jpg C:\\Users\\JLK01\\Desktop\\skinfile\\PL_Sample_5_labels.png\n",
      "C:\\Users\\JLK01\\Desktop\\skinfile\\test_masks\\PL_Sample_1.jpg C:\\Users\\JLK01\\Desktop\\skinfile\\test_masks\\PL_Sample_1_labels.png\n"
     ]
    },
    {
     "ename": "AttributeError",
     "evalue": "'NoneType' object has no attribute 'shape'",
     "output_type": "error",
     "traceback": [
      "\u001b[1;31m---------------------------------------------------------------------------\u001b[0m",
      "\u001b[1;31mAttributeError\u001b[0m                            Traceback (most recent call last)",
      "\u001b[1;32m~\\AppData\\Local\\Temp\\ipykernel_11832\\846554589.py\u001b[0m in \u001b[0;36m<module>\u001b[1;34m\u001b[0m\n\u001b[0;32m     63\u001b[0m     \u001b[1;32mfor\u001b[0m \u001b[0mimg_path\u001b[0m\u001b[1;33m,\u001b[0m \u001b[0mmask_path\u001b[0m \u001b[1;32min\u001b[0m \u001b[0mpairs\u001b[0m\u001b[1;33m:\u001b[0m\u001b[1;33m\u001b[0m\u001b[1;33m\u001b[0m\u001b[0m\n\u001b[0;32m     64\u001b[0m         \u001b[0mprint\u001b[0m\u001b[1;33m(\u001b[0m\u001b[0mimg_path\u001b[0m\u001b[1;33m,\u001b[0m \u001b[0mmask_path\u001b[0m\u001b[1;33m)\u001b[0m\u001b[1;33m\u001b[0m\u001b[1;33m\u001b[0m\u001b[0m\n\u001b[1;32m---> 65\u001b[1;33m         \u001b[0mexecute_patching\u001b[0m\u001b[1;33m(\u001b[0m\u001b[0mimg_path\u001b[0m\u001b[1;33m,\u001b[0m \u001b[0mmask_path\u001b[0m\u001b[1;33m)\u001b[0m\u001b[1;33m\u001b[0m\u001b[1;33m\u001b[0m\u001b[0m\n\u001b[0m",
      "\u001b[1;32m~\\AppData\\Local\\Temp\\ipykernel_11832\\846554589.py\u001b[0m in \u001b[0;36mexecute_patching\u001b[1;34m(img_path, mask_path)\u001b[0m\n\u001b[0;32m     27\u001b[0m     \u001b[0mmask\u001b[0m \u001b[1;33m=\u001b[0m \u001b[0mcv2\u001b[0m\u001b[1;33m.\u001b[0m\u001b[0mimread\u001b[0m\u001b[1;33m(\u001b[0m\u001b[0mmask_path\u001b[0m\u001b[1;33m,\u001b[0m \u001b[0mcv2\u001b[0m\u001b[1;33m.\u001b[0m\u001b[0mIMREAD_GRAYSCALE\u001b[0m\u001b[1;33m)\u001b[0m\u001b[1;33m\u001b[0m\u001b[1;33m\u001b[0m\u001b[0m\n\u001b[0;32m     28\u001b[0m \u001b[1;33m\u001b[0m\u001b[0m\n\u001b[1;32m---> 29\u001b[1;33m     \u001b[0mheight\u001b[0m\u001b[1;33m,\u001b[0m \u001b[0mwidth\u001b[0m\u001b[1;33m,\u001b[0m \u001b[0m_\u001b[0m \u001b[1;33m=\u001b[0m \u001b[0mimage\u001b[0m\u001b[1;33m.\u001b[0m\u001b[0mshape\u001b[0m\u001b[1;33m\u001b[0m\u001b[1;33m\u001b[0m\u001b[0m\n\u001b[0m\u001b[0;32m     30\u001b[0m     \u001b[0mfname\u001b[0m \u001b[1;33m=\u001b[0m \u001b[0mos\u001b[0m\u001b[1;33m.\u001b[0m\u001b[0mpath\u001b[0m\u001b[1;33m.\u001b[0m\u001b[0mbasename\u001b[0m\u001b[1;33m(\u001b[0m\u001b[0mos\u001b[0m\u001b[1;33m.\u001b[0m\u001b[0mpath\u001b[0m\u001b[1;33m.\u001b[0m\u001b[0msplitext\u001b[0m\u001b[1;33m(\u001b[0m\u001b[0mimg_path\u001b[0m\u001b[1;33m)\u001b[0m\u001b[1;33m[\u001b[0m\u001b[1;36m0\u001b[0m\u001b[1;33m]\u001b[0m\u001b[1;33m)\u001b[0m\u001b[1;33m\u001b[0m\u001b[1;33m\u001b[0m\u001b[0m\n\u001b[0;32m     31\u001b[0m \u001b[1;33m\u001b[0m\u001b[0m\n",
      "\u001b[1;31mAttributeError\u001b[0m: 'NoneType' object has no attribute 'shape'"
     ]
    }
   ],
   "source": [
    "import os\n",
    "import cv2\n",
    "\n",
    "import numpy as np\n",
    "\n",
    "\n",
    "TARGET_PIXEL = 128\n",
    "DOWNSTREAM = 8\n",
    "SAVE_PATH = r\"C:\\Users\\JLK01\\Desktop\\skinfile\"\n",
    "\n",
    "\n",
    "def make_directory(path):\n",
    "    os.makedirs(path, exist_ok=True)\n",
    "\n",
    "\n",
    "def get_image_paths(base):\n",
    "    ret = []\n",
    "    for path, dirs, files in os.walk(base):\n",
    "        for file in files:\n",
    "            if file.endswith(\"labels.png\"):\n",
    "                ret.append((os.path.join(path, file.replace(\"_labels.png\", \".jpg\")), os.path.join(path, file)))\n",
    "    return ret\n",
    "\n",
    "\n",
    "def execute_patching(img_path, mask_path):\n",
    "    image = cv2.imread(img_path, cv2.IMREAD_COLOR)\n",
    "    mask = cv2.imread(mask_path, cv2.IMREAD_GRAYSCALE)\n",
    "    \n",
    "    height, width, _ = image.shape\n",
    "    fname = os.path.basename(os.path.splitext(img_path)[0])\n",
    "    \n",
    "    for h in range(height // TARGET_PIXEL):\n",
    "        for w in range(width // TARGET_PIXEL):\n",
    "            patch_image = image[h*TARGET_PIXEL:(h+1)*TARGET_PIXEL, w*TARGET_PIXEL:(w+1)*TARGET_PIXEL]\n",
    "            patch_mask = mask[(h*TARGET_PIXEL)//DOWNSTREAM:((h+1)*TARGET_PIXEL)//DOWNSTREAM, (w*TARGET_PIXEL)//DOWNSTREAM:((w+1)*TARGET_PIXEL)//DOWNSTREAM]\n",
    "            patch_mask[np.where(patch_mask < 230)] = 0\n",
    "            patch_mask = cv2.resize(patch_mask, (TARGET_PIXEL, TARGET_PIXEL), cv2.INTER_NEAREST)\n",
    "            x = np.array(patch_mask)\n",
    "            tf = 0 in x\n",
    "            if tf==True:\n",
    "                cv2.imwrite(os.path.join(SAVE_PATH, \"masks\", f\"{fname}_{w}_{h}.png\"), patch_mask)\n",
    "\n",
    "                \n",
    "            #img_mask = cv2.inRange(image, 0, 200) \n",
    "\n",
    "            #if cv2.countNonZero(img_mask) > 0:\n",
    "            #     print('mask is not present!')\n",
    "            #else:\n",
    "            #     print('mask is present!')\n",
    "            \n",
    "            patch_mask = cv2.resize(patch_mask, (TARGET_PIXEL, TARGET_PIXEL), cv2.INTER_NEAREST)\n",
    "            cv2.imwrite(os.path.join(SAVE_PATH, \"images\", f\"{fname}_{w}_{h}.png\"), patch_image)\n",
    "            \n",
    "\n",
    "\n",
    "\n",
    "\n",
    "if __name__ == \"__main__\":\n",
    "    pairs = get_image_paths(r\"C:\\Users\\JLK01\\Desktop\\skinfile\")\n",
    "    make_directory(os.path.join(SAVE_PATH, \"images\"))\n",
    "    make_directory(os.path.join(SAVE_PATH, \"masks\"))\n",
    "\n",
    "    for img_path, mask_path in pairs:\n",
    "        print(img_path, mask_path)\n",
    "        execute_patching(img_path, mask_path)"
   ]
  },
  {
   "cell_type": "code",
   "execution_count": null,
   "metadata": {},
   "outputs": [],
   "source": []
  }
 ],
 "metadata": {
  "kernelspec": {
   "display_name": "Python 3.7.13 ('zxzxk0')",
   "language": "python",
   "name": "python3"
  },
  "language_info": {
   "codemirror_mode": {
    "name": "ipython",
    "version": 3
   },
   "file_extension": ".py",
   "mimetype": "text/x-python",
   "name": "python",
   "nbconvert_exporter": "python",
   "pygments_lexer": "ipython3",
   "version": "3.7.13"
  },
  "orig_nbformat": 4,
  "vscode": {
   "interpreter": {
    "hash": "8b51110031c111e429c7b76084a7f251a207b1a03e65ecca9b7a1cc097f7719a"
   }
  }
 },
 "nbformat": 4,
 "nbformat_minor": 2
}
